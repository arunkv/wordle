{
 "cells": [
  {
   "cell_type": "code",
   "execution_count": 26,
   "id": "e2fe518b-2600-4b76-b7f7-d74c93682633",
   "metadata": {},
   "outputs": [],
   "source": [
    "import cProfile\n",
    "import logging\n",
    "\n",
    "import constants\n",
    "from solver import solve"
   ]
  },
  {
   "cell_type": "code",
   "execution_count": 27,
   "id": "501fe867-7872-4b34-80db-0ce4ba497e6a",
   "metadata": {},
   "outputs": [],
   "source": [
    "class DotDict(dict):\n",
    "    def __init__(self, *args, **kwargs):\n",
    "        super(DotDict, self).__init__(*args, **kwargs)\n",
    "        for arg in args:\n",
    "            if isinstance(arg, dict):\n",
    "                for k, v in arg.items():\n",
    "                    self[k] = v\n",
    "        if kwargs:\n",
    "            for k, v in kwargs.items():\n",
    "                self[k] = v\n",
    "\n",
    "    def __getattr__(self, attr):\n",
    "        if attr in self:\n",
    "            return self[attr]\n",
    "        else:\n",
    "            raise AttributeError(f\"No such attribute: {attr}\")\n",
    "\n",
    "    def __setattr__(self, key, value):\n",
    "        self[key] = value\n",
    "\n",
    "    def __delattr__(self, item):\n",
    "        if item in self:\n",
    "            del self[item]\n",
    "        else:\n",
    "            raise AttributeError(f\"No such attribute: {item}\")"
   ]
  },
  {
   "cell_type": "code",
   "execution_count": 36,
   "id": "a1e0ab96-c04e-4309-a49f-af8d74b3716e",
   "metadata": {},
   "outputs": [],
   "source": [
    "def get_arguments():\n",
    "    args = {\n",
    "        'continuous': True,\n",
    "        'dict': ['../words/wordle-answers-alphabetical.txt'],\n",
    "        'len': constants.DEFAULT_WORD_LENGTH,\n",
    "        'non_interactive': True,\n",
    "        'profile': False,\n",
    "        'quiet': True,\n",
    "        'solver': 'entropy',\n",
    "        'tries': constants.DEFAULT_TRIES,\n",
    "    }\n",
    "    return DotDict(args)"
   ]
  },
  {
   "cell_type": "code",
   "execution_count": 37,
   "id": "377c99a0-cb53-45db-a49a-03c7d32557ef",
   "metadata": {},
   "outputs": [
    {
     "name": "stdout",
     "output_type": "stream",
     "text": [
      "Wordle Game Statistics\n",
      "----------------------\n",
      "Games Played: 2315\n",
      "Games Solved: 2306\n",
      "Average Tries: 3.57\n",
      "Success Rate: 99.6 %\n",
      "Solve Time Per Game: 13 ms\n"
     ]
    }
   ],
   "source": [
    "try:\n",
    "    args = get_arguments()\n",
    "    PROFILER = None\n",
    "    if args.profile:\n",
    "        PROFILER = cProfile.Profile()\n",
    "        PROFILER.enable()\n",
    "    solve(args)\n",
    "    if args.profile:\n",
    "        PROFILER.disable()\n",
    "        PROFILER.print_stats(sort='cumtime')\n",
    "except KeyboardInterrupt:\n",
    "    logging.info(\"Game interrupted by user\")\n",
    "    print()"
   ]
  },
  {
   "cell_type": "code",
   "execution_count": null,
   "id": "9b4805f7-9b6f-4353-8f54-0de44cb8fbc1",
   "metadata": {},
   "outputs": [],
   "source": []
  }
 ],
 "metadata": {
  "kernelspec": {
   "display_name": "Python 3 (ipykernel)",
   "language": "python",
   "name": "python3"
  },
  "language_info": {
   "codemirror_mode": {
    "name": "ipython",
    "version": 3
   },
   "file_extension": ".py",
   "mimetype": "text/x-python",
   "name": "python",
   "nbconvert_exporter": "python",
   "pygments_lexer": "ipython3",
   "version": "3.12.0"
  }
 },
 "nbformat": 4,
 "nbformat_minor": 5
}
